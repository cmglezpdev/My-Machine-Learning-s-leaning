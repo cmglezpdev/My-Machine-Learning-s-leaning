{
 "cells": [
  {
   "cell_type": "markdown",
   "metadata": {},
   "source": [
    "### Regresion Lineal: Coste de un incidente de seguridad\n"
   ]
  },
  {
   "cell_type": "markdown",
   "metadata": {},
   "source": [
    "#### Enunciado\n",
    "\n",
    "Predecir el coste de un incidente de seguridad dado el numero de equipos afectados. Para entrenar al algoritmo se uso un conjunto de datos randoms"
   ]
  },
  {
   "cell_type": "markdown",
   "metadata": {},
   "source": [
    "**1. Generar el conjunto de datos**"
   ]
  },
  {
   "cell_type": "code",
   "execution_count": 115,
   "metadata": {},
   "outputs": [
    {
     "name": "stdout",
     "output_type": "stream",
     "text": [
      "La longuitud de conjunto de datos es:  100\n"
     ]
    }
   ],
   "source": [
    "import numpy as np\n",
    "\n",
    "X = 2 * np.random.rand(100, 1)\n",
    "Y = 4 + 3 * X + np.random.rand(100, 1)\n",
    "\n",
    "print(\"La longuitud de conjunto de datos es: \", len(X))"
   ]
  },
  {
   "cell_type": "markdown",
   "metadata": {},
   "source": [
    "**2. Visualizacion de datos**"
   ]
  },
  {
   "cell_type": "code",
   "execution_count": 116,
   "metadata": {},
   "outputs": [],
   "source": [
    "import matplotlib.pyplot as plt\n",
    "%matplotlib inline"
   ]
  },
  {
   "cell_type": "code",
   "execution_count": 117,
   "metadata": {},
   "outputs": [
    {
     "data": {
      "image/png": "[encoded data removed]",
      "text/plain": [
       "<Figure size 432x288 with 1 Axes>"
      ]
     },
     "metadata": {
      "needs_background": "light"
     },
     "output_type": "display_data"
    }
   ],
   "source": [
    "plt.plot(X, Y, \"b.\")\n",
    "plt.show()"
   ]
  },
  {
   "cell_type": "code",
   "execution_count": 118,
   "metadata": {},
   "outputs": [
    {
     "data": {
      "text/plain": [
       "Text(0, 0.5, 'Coste de incidente (u/1000)')"
      ]
     },
     "execution_count": 118,
     "metadata": {},
     "output_type": "execute_result"
    },
    {
     "data": {
      "image/png": "[encoded data removed]",
      "text/plain": [
       "<Figure size 432x288 with 1 Axes>"
      ]
     },
     "metadata": {
      "needs_background": "light"
     },
     "output_type": "display_data"
    }
   ],
   "source": [
    "plt.plot(X, Y, \"b.\")\n",
    "plt.xlabel(\"Equipos afectados (u/1000)\")\n",
    "plt.ylabel(\"Coste de incidente (u/1000)\")"
   ]
  },
  {
   "cell_type": "markdown",
   "metadata": {},
   "source": [
    "**3. Modificacion del conjunto de datos**"
   ]
  },
  {
   "cell_type": "code",
   "execution_count": 119,
   "metadata": {},
   "outputs": [],
   "source": [
    "import pandas as pd"
   ]
  },
  {
   "cell_type": "code",
   "execution_count": 120,
   "metadata": {},
   "outputs": [
    {
     "data": {
      "text/html": [
       "<div>\n",
       "<style scoped>\n",
       "    .dataframe tbody tr th:only-of-type {\n",
       "        vertical-align: middle;\n",
       "    }\n",
       "\n",
       "    .dataframe tbody tr th {\n",
       "        vertical-align: top;\n",
       "    }\n",
       "\n",
       "    .dataframe thead th {\n",
       "        text-align: right;\n",
       "    }\n",
       "</style>\n",
       "<table border=\"1\" class=\"dataframe\">\n",
       "  <thead>\n",
       "    <tr style=\"text-align: right;\">\n",
       "      <th></th>\n",
       "      <th>n_equipos_afectados</th>\n",
       "      <th>coste</th>\n",
       "    </tr>\n",
       "  </thead>\n",
       "  <tbody>\n",
       "    <tr>\n",
       "      <th>0</th>\n",
       "      <td>0.027302</td>\n",
       "      <td>4.537861</td>\n",
       "    </tr>\n",
       "    <tr>\n",
       "      <th>1</th>\n",
       "      <td>1.293745</td>\n",
       "      <td>8.610296</td>\n",
       "    </tr>\n",
       "    <tr>\n",
       "      <th>2</th>\n",
       "      <td>1.119689</td>\n",
       "      <td>7.802952</td>\n",
       "    </tr>\n",
       "    <tr>\n",
       "      <th>3</th>\n",
       "      <td>1.112354</td>\n",
       "      <td>7.542437</td>\n",
       "    </tr>\n",
       "    <tr>\n",
       "      <th>4</th>\n",
       "      <td>1.983763</td>\n",
       "      <td>9.979822</td>\n",
       "    </tr>\n",
       "    <tr>\n",
       "      <th>5</th>\n",
       "      <td>0.288183</td>\n",
       "      <td>5.206770</td>\n",
       "    </tr>\n",
       "    <tr>\n",
       "      <th>6</th>\n",
       "      <td>1.623763</td>\n",
       "      <td>9.769993</td>\n",
       "    </tr>\n",
       "    <tr>\n",
       "      <th>7</th>\n",
       "      <td>0.673286</td>\n",
       "      <td>6.947290</td>\n",
       "    </tr>\n",
       "    <tr>\n",
       "      <th>8</th>\n",
       "      <td>0.655231</td>\n",
       "      <td>6.633068</td>\n",
       "    </tr>\n",
       "    <tr>\n",
       "      <th>9</th>\n",
       "      <td>1.175950</td>\n",
       "      <td>8.239251</td>\n",
       "    </tr>\n",
       "  </tbody>\n",
       "</table>\n",
       "</div>"
      ],
      "text/plain": [
       "   n_equipos_afectados     coste\n",
       "0             0.027302  4.537861\n",
       "1             1.293745  8.610296\n",
       "2             1.119689  7.802952\n",
       "3             1.112354  7.542437\n",
       "4             1.983763  9.979822\n",
       "5             0.288183  5.206770\n",
       "6             1.623763  9.769993\n",
       "7             0.673286  6.947290\n",
       "8             0.655231  6.633068\n",
       "9             1.175950  8.239251"
      ]
     },
     "execution_count": 120,
     "metadata": {},
     "output_type": "execute_result"
    }
   ],
   "source": [
    "data = { 'n_equipos_afectados': X.flatten(), 'coste': Y.flatten() }\n",
    "df = pd.DataFrame(data)\n",
    "df.head(10)"
   ]
  },
  {
   "cell_type": "code",
   "execution_count": 121,
   "metadata": {},
   "outputs": [
    {
     "data": {
      "text/html": [
       "<div>\n",
       "<style scoped>\n",
       "    .dataframe tbody tr th:only-of-type {\n",
       "        vertical-align: middle;\n",
       "    }\n",
       "\n",
       "    .dataframe tbody tr th {\n",
       "        vertical-align: top;\n",
       "    }\n",
       "\n",
       "    .dataframe thead th {\n",
       "        text-align: right;\n",
       "    }\n",
       "</style>\n",
       "<table border=\"1\" class=\"dataframe\">\n",
       "  <thead>\n",
       "    <tr style=\"text-align: right;\">\n",
       "      <th></th>\n",
       "      <th>n_equipos_afectados</th>\n",
       "      <th>coste</th>\n",
       "    </tr>\n",
       "  </thead>\n",
       "  <tbody>\n",
       "    <tr>\n",
       "      <th>0</th>\n",
       "      <td>27</td>\n",
       "      <td>4537</td>\n",
       "    </tr>\n",
       "    <tr>\n",
       "      <th>1</th>\n",
       "      <td>1293</td>\n",
       "      <td>8610</td>\n",
       "    </tr>\n",
       "    <tr>\n",
       "      <th>2</th>\n",
       "      <td>1119</td>\n",
       "      <td>7802</td>\n",
       "    </tr>\n",
       "    <tr>\n",
       "      <th>3</th>\n",
       "      <td>1112</td>\n",
       "      <td>7542</td>\n",
       "    </tr>\n",
       "    <tr>\n",
       "      <th>4</th>\n",
       "      <td>1983</td>\n",
       "      <td>9979</td>\n",
       "    </tr>\n",
       "    <tr>\n",
       "      <th>5</th>\n",
       "      <td>288</td>\n",
       "      <td>5206</td>\n",
       "    </tr>\n",
       "    <tr>\n",
       "      <th>6</th>\n",
       "      <td>1623</td>\n",
       "      <td>9769</td>\n",
       "    </tr>\n",
       "    <tr>\n",
       "      <th>7</th>\n",
       "      <td>673</td>\n",
       "      <td>6947</td>\n",
       "    </tr>\n",
       "    <tr>\n",
       "      <th>8</th>\n",
       "      <td>655</td>\n",
       "      <td>6633</td>\n",
       "    </tr>\n",
       "    <tr>\n",
       "      <th>9</th>\n",
       "      <td>1175</td>\n",
       "      <td>8239</td>\n",
       "    </tr>\n",
       "  </tbody>\n",
       "</table>\n",
       "</div>"
      ],
      "text/plain": [
       "   n_equipos_afectados  coste\n",
       "0                   27   4537\n",
       "1                 1293   8610\n",
       "2                 1119   7802\n",
       "3                 1112   7542\n",
       "4                 1983   9979\n",
       "5                  288   5206\n",
       "6                 1623   9769\n",
       "7                  673   6947\n",
       "8                  655   6633\n",
       "9                 1175   8239"
      ]
     },
     "execution_count": 121,
     "metadata": {},
     "output_type": "execute_result"
    }
   ],
   "source": [
    "# Escalado de equipos afectados\n",
    "df[ 'n_equipos_afectados' ] = df[ 'n_equipos_afectados' ] * 1000\n",
    "df[ 'n_equipos_afectados' ] = df[ 'n_equipos_afectados' ].astype('int')\n",
    "#Escalado de coste\n",
    "df[ 'coste' ] = df[ 'coste' ] * 1000\n",
    "df[ 'coste' ] = df[ 'coste' ].astype('int')\n",
    "\n",
    "df.head(10)\n"
   ]
  },
  {
   "cell_type": "code",
   "execution_count": 122,
   "metadata": {},
   "outputs": [
    {
     "data": {
      "text/plain": [
       "Text(0, 0.5, 'Coste de incidente')"
      ]
     },
     "execution_count": 122,
     "metadata": {},
     "output_type": "execute_result"
    },
    {
     "data": {
      "image/png": "[encoded data removed]",
      "text/plain": [
       "<Figure size 432x288 with 1 Axes>"
      ]
     },
     "metadata": {
      "needs_background": "light"
     },
     "output_type": "display_data"
    }
   ],
   "source": [
    "#Representacion del conjunto de datos\n",
    "plt.plot( df['n_equipos_afectados'], df[ 'coste' ], \"b.\" )\n",
    "plt.xlabel(\"Equipos afectados\")\n",
    "plt.ylabel(\"Coste de incidente\")"
   ]
  },
  {
   "cell_type": "markdown",
   "metadata": {},
   "source": [
    "**4. Construccion del modelo**"
   ]
  },
  {
   "cell_type": "code",
   "execution_count": 123,
   "metadata": {},
   "outputs": [],
   "source": [
    "from sklearn.linear_model import LinearRegression"
   ]
  },
  {
   "cell_type": "code",
   "execution_count": 124,
   "metadata": {},
   "outputs": [
    {
     "data": {
      "text/plain": [
       "LinearRegression()"
      ]
     },
     "execution_count": 124,
     "metadata": {},
     "output_type": "execute_result"
    }
   ],
   "source": [
    "#Construccion del modelo y ajuste de la funcion hipotesis\n",
    "lin_reg = LinearRegression()\n",
    "# Entrenar ( Variables de entrada, variable de salida )\n",
    "lin_reg.fit( df[\"n_equipos_afectados\"].values.reshape(-1, 1), df[\"coste\"].values )"
   ]
  },
  {
   "cell_type": "code",
   "execution_count": 125,
   "metadata": {},
   "outputs": [
    {
     "data": {
      "text/plain": [
       "4469.286964133584"
      ]
     },
     "execution_count": 125,
     "metadata": {},
     "output_type": "execute_result"
    }
   ],
   "source": [
    "# Parametro Theta 0\n",
    "lin_reg.intercept_ "
   ]
  },
  {
   "cell_type": "code",
   "execution_count": 126,
   "metadata": {},
   "outputs": [
    {
     "data": {
      "text/plain": [
       "array([3.00972676])"
      ]
     },
     "execution_count": 126,
     "metadata": {},
     "output_type": "execute_result"
    }
   ],
   "source": [
    "# Parametro Theta 1\n",
    "lin_reg.coef_"
   ]
  },
  {
   "cell_type": "code",
   "execution_count": 127,
   "metadata": {},
   "outputs": [],
   "source": [
    "# Prediccion del valor minimo y maximo del conjunto de datos de entrenamiento\n",
    "X_min_max = np.array( [[df[\"n_equipos_afectados\"].min()], [df[\"n_equipos_afectados\"].max()]] )\n",
    "Y_train_pred = lin_reg.predict(X_min_max)"
   ]
  },
  {
   "cell_type": "code",
   "execution_count": 128,
   "metadata": {},
   "outputs": [
    {
     "data": {
      "image/png": "[encoded data removed]",
      "text/plain": [
       "<Figure size 432x288 with 1 Axes>"
      ]
     },
     "metadata": {
      "needs_background": "light"
     },
     "output_type": "display_data"
    }
   ],
   "source": [
    "# Representacion grafica de la funcion hipotesis generada\n",
    "plt.plot(X_min_max, Y_train_pred, \"g-\")\n",
    "plt.plot( df['n_equipos_afectados'], df[ 'coste' ], \"b.\" )\n",
    "plt.xlabel(\"Equipos afectados\")\n",
    "plt.ylabel(\"Coste del incidente\")\n",
    "plt.show()"
   ]
  },
  {
   "cell_type": "markdown",
   "metadata": {},
   "source": [
    "**5. Prediccion de nuevos valores**"
   ]
  },
  {
   "cell_type": "code",
   "execution_count": 141,
   "metadata": {},
   "outputs": [
    {
     "name": "stdout",
     "output_type": "stream",
     "text": [
      "El coste de los incidentes seria:  [8080.95907644 7268.33285117] euros\n"
     ]
    }
   ],
   "source": [
    "x_news = np.array([[1200], [930]]) # 1200 equipos afectados\n",
    "\n",
    "# Prediccion del coste que tendria el incidente\n",
    "costes = lin_reg.predict(x_news)\n",
    "print(\"El coste de los incidentes seria: \", costes, 'euros')"
   ]
  },
  {
   "cell_type": "code",
   "execution_count": 142,
   "metadata": {},
   "outputs": [
    {
     "data": {
      "image/png": "[encoded data removed]",
      "text/plain": [
       "<Figure size 432x288 with 1 Axes>"
      ]
     },
     "metadata": {
      "needs_background": "light"
     },
     "output_type": "display_data"
    }
   ],
   "source": [
    "plt.plot(df[\"n_equipos_afectados\"], df[\"coste\"], 'b.')\n",
    "plt.plot(X_min_max, Y_train_pred, \"g-\")\n",
    "plt.plot(x_new, coste, 'rx')\n",
    "plt.xlabel(\"Equipos afectados\")\n",
    "plt.ylabel(\"Coste de incidente\")\n",
    "plt.show()"
   ]
  }
 ],
 "metadata": {
  "interpreter": {
   "hash": "db9e49454588bd49ef9d1eba68d4a30b02dcf6c735150a452d434e2766d1035c"
  },
  "kernelspec": {
   "display_name": "Python 3.9.12 ('myenv')",
   "language": "python",
   "name": "python3"
  },
  "language_info": {
   "codemirror_mode": {
    "name": "ipython",
    "version": 3
   },
   "file_extension": ".py",
   "mimetype": "text/x-python",
   "name": "python",
   "nbconvert_exporter": "python",
   "pygments_lexer": "ipython3",
   "version": "3.9.12"
  },
  "orig_nbformat": 4
 },
 "nbformat": 4,
 "nbformat_minor": 2
}
